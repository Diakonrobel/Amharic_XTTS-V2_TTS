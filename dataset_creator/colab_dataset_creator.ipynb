{
  "nbformat": 4,
  "nbformat_minor": 0,
  "metadata": {
    "colab": {
      "provenance": [],
      "gpuType": "T4"
    },
    "kernelspec": {
      "name": "python3",
      "display_name": "Python 3"
    },
    "language_info": {
      "name": "python"
    },
    "accelerator": "GPU"
  },
  "cells": [
    {
      "cell_type": "markdown",
      "source": [
        "# 🎙️ XTTS Dataset Creator for Google Colab\n",
        "\n",
        "Create professional voice datasets for XTTS training with a full-featured Gradio interface.\n",
        "\n",
        "## 🚀 Features:\n",
        "- **Multiple Input Sources:** YouTube, file upload, microphone\n",
        "- **Automatic Transcription:** Faster Whisper with GPU support\n",
        "- **Audio Segmentation:** Advanced VAD and quality filtering\n",
        "- **Export Formats:** CSV, JSON, LJSpeech, metadata.txt\n",
        "- **Statistics Dashboard:** Real-time dataset analytics\n",
        "- **Google Drive Integration:** Auto-save all projects\n",
        "\n",
        "---"
      ],
      "metadata": {
        "id": "intro"
      }
    },
    {
      "cell_type": "markdown",
      "source": [
        "## 📦 Step 1: Install Dependencies"
      ],
      "metadata": {
        "id": "install"
      }
    },
    {
      "cell_type": "code",
      "source": [
        "%%capture\n",
        "\n",
        "# Install PyTorch with CUDA\n",
        "!pip install torch==2.1.2+cu118 torchaudio==2.1.2+cu118 --index-url https://download.pytorch.org/whl/cu118\n",
        "\n",
        "# Install core dependencies\n",
        "!pip install gradio>=4.44.0 faster-whisper>=1.0.0 librosa soundfile pandas numpy yt-dlp pydub\n",
        "\n",
        "print(\"✅ Dependencies installed!\")"
      ],
      "metadata": {
        "id": "install-deps"
      },
      "execution_count": null,
      "outputs": []
    },
    {
      "cell_type": "markdown",
      "source": [
        "## 💾 Step 2: Mount Google Drive"
      ],
      "metadata": {
        "id": "mount"
      }
    },
    {
      "cell_type": "code",
      "source": [
        "from google.colab import drive\n",
        "import os\n",
        "\n",
        "# Mount Google Drive\n",
        "drive.mount('/content/drive')\n",
        "\n",
        "# Create workspace\n",
        "workspace = '/content/drive/MyDrive/XTTS_Datasets'\n",
        "os.makedirs(workspace, exist_ok=True)\n",
        "\n",
        "print(f\"\\n✅ Google Drive mounted!\")\n",
        "print(f\"📍 Workspace: {workspace}\")\n",
        "print(f\"💾 All datasets will be saved here automatically!\")"
      ],
      "metadata": {
        "id": "mount-drive"
      },
      "execution_count": null,
      "outputs": []
    },
    {
      "cell_type": "markdown",
      "source": [
        "## 🔽 Step 3: Clone Dataset Creator"
      ],
      "metadata": {
        "id": "clone"
      }
    },
    {
      "cell_type": "code",
      "source": [
        "import os\n",
        "from pathlib import Path\n",
        "\n",
        "# Clone repository\n",
        "if not Path(\"xtts-finetune-webui-fresh\").exists():\n",
        "    print(\"🔽 Cloning repository...\")\n",
        "    !git clone https://github.com/Diakonrobel/Amharic_XTTS-V2_TTS.git xtts-finetune-webui-fresh\n",
        "    print(\"✅ Repository cloned!\")\n",
        "else:\n",
        "    print(\"📂 Repository exists, pulling updates...\")\n",
        "    !cd xtts-finetune-webui-fresh && git pull\n",
        "\n",
        "%cd xtts-finetune-webui-fresh/dataset_creator\n",
        "\n",
        "print(f\"\\n✅ Dataset creator ready!\")\n",
        "print(f\"📍 Current directory: {os.getcwd()}\")"
      ],
      "metadata": {
        "id": "clone-repo"
      },
      "execution_count": null,
      "outputs": []
    },
    {
      "cell_type": "markdown",
      "source": [
        "## 🚀 Step 4: Launch Dataset Creator UI"
      ],
      "metadata": {
        "id": "launch"
      }
    },
    {
      "cell_type": "code",
      "source": [
        "import sys\n",
        "sys.path.append('..')\n",
        "\n",
        "# Import and launch\n",
        "from app import create_interface\n",
        "\n",
        "print(\"🎨 Launching Dataset Creator...\\n\")\n",
        "print(\"📊 Features Available:\")\n",
        "print(\"   ✅ YouTube video processing\")\n",
        "print(\"   ✅ Audio file upload\")\n",
        "print(\"   ✅ Microphone recording\")\n",
        "print(\"   ✅ Automatic transcription\")\n",
        "print(\"   ✅ Quality filtering\")\n",
        "print(\"   ✅ Multiple export formats\")\n",
        "print(\"   ✅ Real-time statistics\")\n",
        "print(\"\\n💡 All projects saved to Google Drive automatically!\\n\")\n",
        "\n",
        "# Create and launch interface\n",
        "demo = create_interface()\n",
        "demo.launch(share=True, debug=True)"
      ],
      "metadata": {
        "id": "launch-ui"
      },
      "execution_count": null,
      "outputs": []
    },
    {
      "cell_type": "markdown",
      "source": [
        "---\n",
        "\n",
        "## 📚 Quick Guide\n",
        "\n",
        "### 1️⃣ Create a Project\n",
        "1. Go to **Project Setup** tab\n",
        "2. Enter project name, language, and speaker name\n",
        "3. Click **Create New Project**\n",
        "\n",
        "### 2️⃣ Add Data (Choose One):\n",
        "\n",
        "**🎬 YouTube:**\n",
        "- Paste YouTube URL\n",
        "- Adjust min/max duration sliders\n",
        "- Click **Process YouTube Video**\n",
        "\n",
        "**📁 File Upload:**\n",
        "- Upload audio files (WAV, MP3, FLAC)\n",
        "- Configure segmentation options\n",
        "- Click **Process Audio Files**\n",
        "\n",
        "**🎤 Recording:**\n",
        "- Click microphone to record\n",
        "- Optionally add manual transcription\n",
        "- Click **Add Recording**\n",
        "\n",
        "### 3️⃣ Review & Export\n",
        "- Check **Dataset Overview** for statistics\n",
        "- Select export format (CSV, JSON, LJSpeech)\n",
        "- Click **Export Dataset**\n",
        "- Download the file\n",
        "\n",
        "---\n",
        "\n",
        "## ⚙️ Processing Options\n",
        "\n",
        "### Segment Duration\n",
        "- **Min Duration (1-5s):** Filter out very short segments\n",
        "- **Max Duration (5-30s):** Split long segments\n",
        "- **Recommended:** 1-15 seconds\n",
        "\n",
        "### Quality Threshold (0-1)\n",
        "- **0.3-0.5:** Accept most segments (quantity)\n",
        "- **0.6-0.7:** Balanced quality/quantity ✅\n",
        "- **0.8-1.0:** Strict filtering (quality)\n",
        "\n",
        "---\n",
        "\n",
        "## 💡 Best Practices\n",
        "\n",
        "### Audio Quality\n",
        "- ✅ Clear voice, minimal background noise\n",
        "- ✅ Consistent volume levels\n",
        "- ✅ Sample rate: 22050 Hz or higher\n",
        "- ❌ Avoid music, multiple speakers, echoes\n",
        "\n",
        "### Dataset Size\n",
        "- **Testing:** 5-10 minutes\n",
        "- **Good Quality:** 30-60 minutes\n",
        "- **Excellent Quality:** 2-4 hours\n",
        "- **Professional:** 10+ hours\n",
        "\n",
        "### Language Codes\n",
        "- English: `en`\n",
        "- Spanish: `es`\n",
        "- French: `fr`\n",
        "- German: `de`\n",
        "- Amharic: `am` or `amh`\n",
        "- [Full list in UI]\n",
        "\n",
        "---\n",
        "\n",
        "## 🔧 Troubleshooting\n",
        "\n",
        "**YouTube Download Fails:**\n",
        "```bash\n",
        "# Update yt-dlp\n",
        "!pip install -U yt-dlp\n",
        "```\n",
        "\n",
        "**Low Quality Segments:**\n",
        "- Lower quality threshold to 0.5-0.6\n",
        "- Check source audio quality\n",
        "- Adjust min/max duration\n",
        "\n",
        "**Transcription Errors:**\n",
        "- Verify correct language selected\n",
        "- Ensure audio is clear\n",
        "- Try shorter segments\n",
        "\n",
        "**Out of Memory:**\n",
        "- Process fewer files at once\n",
        "- Use shorter audio segments\n",
        "- Restart runtime\n",
        "\n",
        "---\n",
        "\n",
        "## 📖 Export Formats\n",
        "\n",
        "### CSV\n",
        "- Pandas-compatible format\n",
        "- Columns: audio_file, text, speaker_name, duration\n",
        "- Use for data analysis\n",
        "\n",
        "### JSON\n",
        "- Structured data format\n",
        "- Easy to parse programmatically\n",
        "- Includes all metadata\n",
        "\n",
        "### metadata.txt\n",
        "- LJSpeech-style format\n",
        "- Format: `filename|text`\n",
        "- Compatible with TTS trainers\n",
        "\n",
        "### LJSpeech\n",
        "- Complete LJSpeech dataset\n",
        "- Includes audio files + metadata\n",
        "- Ready for training\n",
        "- Exported as ZIP archive\n",
        "\n",
        "---\n",
        "\n",
        "## 🎉 Credits\n",
        "\n",
        "- **XTTS v2:** [Coqui AI](https://github.com/coqui-ai/TTS)\n",
        "- **Faster Whisper:** [systran/faster-whisper](https://github.com/systran/faster-whisper)\n",
        "- **Gradio:** [gradio-app/gradio](https://github.com/gradio-app/gradio)\n",
        "- **yt-dlp:** [yt-dlp/yt-dlp](https://github.com/yt-dlp/yt-dlp)\n",
        "\n",
        "---\n",
        "\n",
        "**⭐ Star the repo:** https://github.com/Diakonrobel/Amharic_XTTS-V2_TTS\n",
        "\n",
        "**💾 All datasets saved to:** `/content/drive/MyDrive/XTTS_Datasets/`\n",
        "\n",
        "**Status:** ✅ Ready for Production\n"
      ],
      "metadata": {
        "id": "guide"
      }
    }
  ]
}
