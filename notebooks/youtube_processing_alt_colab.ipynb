{
 "cells": [
  {
   "cell_type": "code",
   "execution_count": null,
   "metadata": {
    "id": "install"
   },
   "outputs": [],
   "source": [
    "# Auto-installer\n",
    "!apt -y install -qq ffmpeg\n",
    "%pip -q install yt-dlp gradio youtube-transcript-api webvtt-py pysrt librosa soundfile demucs faster-whisper\n"
   ]
  },
  {
   "cell_type": "code",
   "execution_count": null,
   "metadata": {
    "id": "launch"
   },
   "outputs": [],
   "source": [
    "# Launch the Alternative YouTube Processing WebUI (two lines)\n",
    "from webui.youtube_processing_alt import launch_ui; launch_ui().launch(share=True)\n"
   ]
  }
 ],
 "metadata": {
  "colab": {
   "name": "youtube_processing_alt_colab.ipynb",
   "provenance": []
  },
  "kernelspec": {
   "display_name": "Python 3",
   "language": "python",
   "name": "python3"
  },
  "language_info": {
   "name": "python"
  }
 },
 "nbformat": 4,
 "nbformat_minor": 0
}
